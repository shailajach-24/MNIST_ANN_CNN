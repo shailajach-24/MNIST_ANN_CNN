{
 "cells": [
  {
   "cell_type": "code",
   "execution_count": 1,
   "metadata": {},
   "outputs": [
    {
     "name": "stderr",
     "output_type": "stream",
     "text": [
      "Using TensorFlow backend.\n"
     ]
    }
   ],
   "source": [
    "# Description: This program uses Convolutional Neural Networks (CNN) \n",
    "#              to classify handwritten digits as numbers 0 - 9\n",
    "\n",
    "#import the libraries\n",
    "from keras.models import Sequential\n",
    "from keras.layers import Dense, Conv2D, Flatten\n",
    "from keras.datasets import mnist\n",
    "from keras.utils import to_categorical\n",
    "import matplotlib.pyplot as plt\n",
    "import numpy as np"
   ]
  },
  {
   "cell_type": "code",
   "execution_count": 2,
   "metadata": {},
   "outputs": [
    {
     "name": "stdout",
     "output_type": "stream",
     "text": [
      "Downloading data from https://s3.amazonaws.com/img-datasets/mnist.npz\n",
      "11493376/11490434 [==============================] - 9s 1us/step\n"
     ]
    }
   ],
   "source": [
    "#Load the data and split it into train and test sets\n",
    "(X_train,y_train), (X_test, y_test) = mnist.load_data()"
   ]
  },
  {
   "cell_type": "code",
   "execution_count": 3,
   "metadata": {},
   "outputs": [
    {
     "name": "stdout",
     "output_type": "stream",
     "text": [
      "(60000, 28, 28)\n",
      "(10000, 28, 28)\n"
     ]
    }
   ],
   "source": [
    "#Get the image shape\n",
    "print(X_train.shape)#60000 rows of 28x28 pixel images with a depth=1 which signifies the images are gray scale (8 bit integers giving 256 possible shades of gray from black to white)\n",
    "print(X_test.shape)#10000 rows of 28x28 pixel images with a depth=1 which signifies the images are gray scale (8 bit integers giving 256 possible shades of gray from black to white)"
   ]
  },
  {
   "cell_type": "code",
   "execution_count": 4,
   "metadata": {
    "collapsed": true
   },
   "outputs": [
    {
     "data": {
      "text/plain": [
       "array([[  0,   0,   0,   0,   0,   0,   0,   0,   0,   0,   0,   0,   0,\n",
       "          0,   0,   0,   0,   0,   0,   0,   0,   0,   0,   0,   0,   0,\n",
       "          0,   0],\n",
       "       [  0,   0,   0,   0,   0,   0,   0,   0,   0,   0,   0,   0,   0,\n",
       "          0,   0,   0,   0,   0,   0,   0,   0,   0,   0,   0,   0,   0,\n",
       "          0,   0],\n",
       "       [  0,   0,   0,   0,   0,   0,   0,   0,   0,   0,   0,   0,   0,\n",
       "          0,   0,   0,   0,   0,   0,   0,   0,   0,   0,   0,   0,   0,\n",
       "          0,   0],\n",
       "       [  0,   0,   0,   0,   0,   0,   0,   0,   0,   0,   0,   0,   0,\n",
       "          0,   0,   0,   0,   0,   0,   0,   0,   0,   0,   0,   0,   0,\n",
       "          0,   0],\n",
       "       [  0,   0,   0,   0,   0,   0,   0,   0,   0,   0,   0,   0,   0,\n",
       "          0,   0,   0,   0,   0,   0,   0,   0,   0,   0,   0,   0,   0,\n",
       "          0,   0],\n",
       "       [  0,   0,   0,   0,   0,   0,   0,   0,   0,   0,   0,   0,   3,\n",
       "         18,  18,  18, 126, 136, 175,  26, 166, 255, 247, 127,   0,   0,\n",
       "          0,   0],\n",
       "       [  0,   0,   0,   0,   0,   0,   0,   0,  30,  36,  94, 154, 170,\n",
       "        253, 253, 253, 253, 253, 225, 172, 253, 242, 195,  64,   0,   0,\n",
       "          0,   0],\n",
       "       [  0,   0,   0,   0,   0,   0,   0,  49, 238, 253, 253, 253, 253,\n",
       "        253, 253, 253, 253, 251,  93,  82,  82,  56,  39,   0,   0,   0,\n",
       "          0,   0],\n",
       "       [  0,   0,   0,   0,   0,   0,   0,  18, 219, 253, 253, 253, 253,\n",
       "        253, 198, 182, 247, 241,   0,   0,   0,   0,   0,   0,   0,   0,\n",
       "          0,   0],\n",
       "       [  0,   0,   0,   0,   0,   0,   0,   0,  80, 156, 107, 253, 253,\n",
       "        205,  11,   0,  43, 154,   0,   0,   0,   0,   0,   0,   0,   0,\n",
       "          0,   0],\n",
       "       [  0,   0,   0,   0,   0,   0,   0,   0,   0,  14,   1, 154, 253,\n",
       "         90,   0,   0,   0,   0,   0,   0,   0,   0,   0,   0,   0,   0,\n",
       "          0,   0],\n",
       "       [  0,   0,   0,   0,   0,   0,   0,   0,   0,   0,   0, 139, 253,\n",
       "        190,   2,   0,   0,   0,   0,   0,   0,   0,   0,   0,   0,   0,\n",
       "          0,   0],\n",
       "       [  0,   0,   0,   0,   0,   0,   0,   0,   0,   0,   0,  11, 190,\n",
       "        253,  70,   0,   0,   0,   0,   0,   0,   0,   0,   0,   0,   0,\n",
       "          0,   0],\n",
       "       [  0,   0,   0,   0,   0,   0,   0,   0,   0,   0,   0,   0,  35,\n",
       "        241, 225, 160, 108,   1,   0,   0,   0,   0,   0,   0,   0,   0,\n",
       "          0,   0],\n",
       "       [  0,   0,   0,   0,   0,   0,   0,   0,   0,   0,   0,   0,   0,\n",
       "         81, 240, 253, 253, 119,  25,   0,   0,   0,   0,   0,   0,   0,\n",
       "          0,   0],\n",
       "       [  0,   0,   0,   0,   0,   0,   0,   0,   0,   0,   0,   0,   0,\n",
       "          0,  45, 186, 253, 253, 150,  27,   0,   0,   0,   0,   0,   0,\n",
       "          0,   0],\n",
       "       [  0,   0,   0,   0,   0,   0,   0,   0,   0,   0,   0,   0,   0,\n",
       "          0,   0,  16,  93, 252, 253, 187,   0,   0,   0,   0,   0,   0,\n",
       "          0,   0],\n",
       "       [  0,   0,   0,   0,   0,   0,   0,   0,   0,   0,   0,   0,   0,\n",
       "          0,   0,   0,   0, 249, 253, 249,  64,   0,   0,   0,   0,   0,\n",
       "          0,   0],\n",
       "       [  0,   0,   0,   0,   0,   0,   0,   0,   0,   0,   0,   0,   0,\n",
       "          0,  46, 130, 183, 253, 253, 207,   2,   0,   0,   0,   0,   0,\n",
       "          0,   0],\n",
       "       [  0,   0,   0,   0,   0,   0,   0,   0,   0,   0,   0,   0,  39,\n",
       "        148, 229, 253, 253, 253, 250, 182,   0,   0,   0,   0,   0,   0,\n",
       "          0,   0],\n",
       "       [  0,   0,   0,   0,   0,   0,   0,   0,   0,   0,  24, 114, 221,\n",
       "        253, 253, 253, 253, 201,  78,   0,   0,   0,   0,   0,   0,   0,\n",
       "          0,   0],\n",
       "       [  0,   0,   0,   0,   0,   0,   0,   0,  23,  66, 213, 253, 253,\n",
       "        253, 253, 198,  81,   2,   0,   0,   0,   0,   0,   0,   0,   0,\n",
       "          0,   0],\n",
       "       [  0,   0,   0,   0,   0,   0,  18, 171, 219, 253, 253, 253, 253,\n",
       "        195,  80,   9,   0,   0,   0,   0,   0,   0,   0,   0,   0,   0,\n",
       "          0,   0],\n",
       "       [  0,   0,   0,   0,  55, 172, 226, 253, 253, 253, 253, 244, 133,\n",
       "         11,   0,   0,   0,   0,   0,   0,   0,   0,   0,   0,   0,   0,\n",
       "          0,   0],\n",
       "       [  0,   0,   0,   0, 136, 253, 253, 253, 212, 135, 132,  16,   0,\n",
       "          0,   0,   0,   0,   0,   0,   0,   0,   0,   0,   0,   0,   0,\n",
       "          0,   0],\n",
       "       [  0,   0,   0,   0,   0,   0,   0,   0,   0,   0,   0,   0,   0,\n",
       "          0,   0,   0,   0,   0,   0,   0,   0,   0,   0,   0,   0,   0,\n",
       "          0,   0],\n",
       "       [  0,   0,   0,   0,   0,   0,   0,   0,   0,   0,   0,   0,   0,\n",
       "          0,   0,   0,   0,   0,   0,   0,   0,   0,   0,   0,   0,   0,\n",
       "          0,   0],\n",
       "       [  0,   0,   0,   0,   0,   0,   0,   0,   0,   0,   0,   0,   0,\n",
       "          0,   0,   0,   0,   0,   0,   0,   0,   0,   0,   0,   0,   0,\n",
       "          0,   0]], dtype=uint8)"
      ]
     },
     "execution_count": 4,
     "metadata": {},
     "output_type": "execute_result"
    }
   ],
   "source": [
    "X_train[0]"
   ]
  },
  {
   "cell_type": "code",
   "execution_count": 5,
   "metadata": {},
   "outputs": [
    {
     "data": {
      "text/plain": [
       "5"
      ]
     },
     "execution_count": 5,
     "metadata": {},
     "output_type": "execute_result"
    }
   ],
   "source": [
    "#Print the image label\n",
    "y_train[0]"
   ]
  },
  {
   "cell_type": "code",
   "execution_count": 6,
   "metadata": {},
   "outputs": [
    {
     "data": {
      "text/plain": [
       "<matplotlib.image.AxesImage at 0x26c7fdb9ec8>"
      ]
     },
     "execution_count": 6,
     "metadata": {},
     "output_type": "execute_result"
    },
    {
     "data": {
      "image/png": "[encoded data removed]",
      "text/plain": [
       "<Figure size 432x288 with 1 Axes>"
      ]
     },
     "metadata": {
      "needs_background": "light"
     },
     "output_type": "display_data"
    }
   ],
   "source": [
    "#Show the image as a picture\n",
    "plt.imshow(X_train[0])"
   ]
  },
  {
   "cell_type": "code",
   "execution_count": 7,
   "metadata": {},
   "outputs": [],
   "source": [
    "#Reshape the data to fit the model\n",
    "X_train = X_train.reshape(60000, 28,28,1)\n",
    "X_test = X_test.reshape(10000, 28, 28, 1)"
   ]
  },
  {
   "cell_type": "code",
   "execution_count": 8,
   "metadata": {},
   "outputs": [],
   "source": [
    "#One-Hot Encode target column (Y-Data sets) : Convert the labels into a set of 10 numbers to input into the neural network\n",
    "y_train_one_hot = to_categorical(y_train)\n",
    "y_test_one_hot = to_categorical(y_test)"
   ]
  },
  {
   "cell_type": "code",
   "execution_count": 10,
   "metadata": {},
   "outputs": [
    {
     "name": "stdout",
     "output_type": "stream",
     "text": [
      "[0. 0. 0. 0. 0. 1. 0. 0. 0. 0.]\n"
     ]
    }
   ],
   "source": [
    "#Print the new label\n",
    "print(y_train_one_hot[0])"
   ]
  },
  {
   "cell_type": "code",
   "execution_count": 13,
   "metadata": {},
   "outputs": [],
   "source": [
    "#Build the CNN model\n",
    "model = Sequential()\n",
    "# add model layers\n",
    "model.add(Conv2D(64, kernel_size=3, activation='relu', input_shape=(28,28,1)))#Convolution layer to extract features from the input image, and create 64 channels of ReLu 3x3 convolved features (NOTE: Rectifier Linear Unit aka (ReLu))\n",
    "model.add(Conv2D(32, kernel_size=3, activation='relu'))#Convolution layer to extract features from the input image, and create 32 channels of ReLu 3x3 convolved features\n",
    "model.add(Flatten())#Flattening  layer makes the image a linear array or 1D Array or 1D Vector to feed into and connect with the neural network\n",
    "model.add(Dense(10, activation='softmax'))# The neural network last layer with 10 neurons and activation function softmax, 10 neurons used because we have 10 labels\n"
   ]
  },
  {
   "cell_type": "code",
   "execution_count": 14,
   "metadata": {},
   "outputs": [],
   "source": [
    "#Compile the model\n",
    "model.compile(optimizer='adam', \n",
    "              loss='categorical_crossentropy', \n",
    "              metrics=['accuracy'])"
   ]
  },
  {
   "cell_type": "code",
   "execution_count": 15,
   "metadata": {},
   "outputs": [
    {
     "name": "stdout",
     "output_type": "stream",
     "text": [
      "Train on 60000 samples, validate on 10000 samples\n",
      "Epoch 1/3\n",
      "60000/60000 [==============================] - 155s 3ms/step - loss: 0.2983 - accuracy: 0.9508 - val_loss: 0.0862 - val_accuracy: 0.9742s: 0.2984 - accuracy: 0.95\n",
      "Epoch 2/3\n",
      "60000/60000 [==============================] - 163s 3ms/step - loss: 0.0723 - accuracy: 0.9781 - val_loss: 0.0771 - val_accuracy: 0.9773\n",
      "Epoch 3/3\n",
      "60000/60000 [==============================] - 158s 3ms/step - loss: 0.0489 - accuracy: 0.9846 - val_loss: 0.0898 - val_accuracy: 0.9750\n"
     ]
    }
   ],
   "source": [
    "#Train the model\n",
    "#Batch: Total number of training examples present in a single batch (None = default 32)\n",
    "#Epoch:The number of iterations when an ENTIRE dataset is passed forward and backward through the neural network only ONCE.\n",
    "#Fit: Another word for train\n",
    "hist = model.fit(X_train, y_train_one_hot, validation_data=(X_test, y_test_one_hot), epochs=3)"
   ]
  },
  {
   "cell_type": "code",
   "execution_count": 18,
   "metadata": {},
   "outputs": [
    {
     "data": {
      "image/png": "[encoded data removed]",
      "text/plain": [
       "<Figure size 432x288 with 1 Axes>"
      ]
     },
     "metadata": {
      "needs_background": "light"
     },
     "output_type": "display_data"
    }
   ],
   "source": [
    "#Visualize the models accuracy\n",
    "plt.plot(hist.history['accuracy'])\n",
    "plt.plot(hist.history['val_accuracy'])\n",
    "plt.title('Model Accuracy')\n",
    "plt.ylabel('Accuracy')\n",
    "plt.xlabel('Epoch')\n",
    "plt.legend(['Train', 'Val'], loc='upper left')\n",
    "plt.show()"
   ]
  },
  {
   "cell_type": "code",
   "execution_count": 19,
   "metadata": {},
   "outputs": [
    {
     "data": {
      "text/plain": [
       "array([[4.81070652e-12, 3.51475241e-15, 2.41960507e-10, 3.08263225e-07,\n",
       "        8.91934096e-12, 9.31421607e-12, 2.86709006e-17, 9.99999642e-01,\n",
       "        3.07999777e-08, 6.46514442e-09],\n",
       "       [8.18298596e-10, 1.69434577e-10, 1.00000000e+00, 4.04575592e-12,\n",
       "        3.23315057e-17, 3.19121082e-15, 1.62252670e-10, 6.02973374e-16,\n",
       "        3.00915681e-11, 4.11906233e-17],\n",
       "       [7.17739067e-06, 8.39146554e-01, 1.11742656e-05, 2.86457833e-07,\n",
       "        1.59772992e-01, 1.11217560e-05, 1.28539659e-06, 1.37667055e-04,\n",
       "        9.09973634e-04, 1.66390430e-06],\n",
       "       [9.99989271e-01, 1.54211383e-11, 5.15794234e-08, 6.13724682e-10,\n",
       "        1.39210046e-10, 6.63341870e-09, 5.65717357e-07, 1.99307393e-09,\n",
       "        7.10462746e-06, 2.98829013e-06],\n",
       "       [2.77307439e-08, 9.53931867e-09, 2.04983835e-10, 4.42715482e-11,\n",
       "        9.99998331e-01, 1.76796355e-11, 1.54954296e-11, 5.18398935e-11,\n",
       "        7.60154661e-10, 1.66793961e-06],\n",
       "       [3.00228152e-07, 9.99324441e-01, 1.91694403e-06, 2.40029205e-08,\n",
       "        4.59848583e-04, 5.34469905e-07, 1.45022949e-09, 1.91484112e-04,\n",
       "        2.13980420e-05, 1.42571722e-07],\n",
       "       [4.93687014e-13, 2.14685372e-07, 1.04236551e-06, 3.66543844e-07,\n",
       "        9.99581754e-01, 2.57383608e-08, 8.10246781e-14, 1.24995891e-09,\n",
       "        4.93522384e-05, 3.67265369e-04],\n",
       "       [1.15313369e-12, 5.52671109e-09, 1.41019187e-08, 1.25055820e-07,\n",
       "        1.17297888e-04, 8.04966533e-07, 4.11291751e-10, 1.54285684e-09,\n",
       "        1.06556263e-06, 9.99880672e-01],\n",
       "       [1.10006556e-06, 1.66895679e-14, 8.61375415e-09, 7.00666677e-11,\n",
       "        5.22340504e-11, 9.68529820e-01, 2.95444559e-02, 2.46282977e-18,\n",
       "        1.66876393e-03, 2.55889812e-04],\n",
       "       [5.55838847e-11, 5.62768826e-14, 1.10658038e-13, 4.20243973e-09,\n",
       "        2.18413159e-04, 1.35495684e-10, 2.89121835e-13, 3.85110343e-06,\n",
       "        2.81202190e-08, 9.99777734e-01],\n",
       "       [9.99979258e-01, 1.90820762e-11, 1.63241545e-08, 1.10537162e-08,\n",
       "        4.56700313e-17, 7.05144609e-10, 6.80525414e-10, 2.49076116e-15,\n",
       "        3.54988219e-06, 1.71998254e-05],\n",
       "       [1.72898071e-05, 1.73769943e-10, 4.53882834e-08, 6.48917586e-10,\n",
       "        3.73968523e-10, 3.32879040e-07, 9.99981523e-01, 1.09631585e-12,\n",
       "        8.49735670e-07, 4.33160814e-08],\n",
       "       [2.75252349e-10, 2.16665986e-12, 9.21469064e-13, 4.15099603e-05,\n",
       "        7.78213798e-05, 1.62606810e-07, 9.40819796e-13, 1.41904075e-05,\n",
       "        2.30092411e-07, 9.99866009e-01],\n",
       "       [9.99831080e-01, 6.62420813e-11, 1.78801031e-07, 6.25203311e-09,\n",
       "        6.60978286e-11, 8.59563727e-07, 5.52785231e-08, 5.56187230e-09,\n",
       "        1.50608221e-05, 1.52832916e-04],\n",
       "       [2.58735184e-07, 9.99850988e-01, 2.42881953e-07, 4.48413048e-05,\n",
       "        7.99659404e-07, 1.60886395e-06, 2.21296432e-06, 5.24162189e-08,\n",
       "        7.52253618e-05, 2.38170815e-05],\n",
       "       [5.39142030e-11, 1.44887675e-15, 9.87883278e-14, 3.71657483e-09,\n",
       "        1.41725016e-19, 1.00000000e+00, 2.59383236e-15, 4.47384888e-15,\n",
       "        1.76706400e-10, 6.37286877e-17],\n",
       "       [6.78951062e-10, 7.52548285e-15, 7.03280767e-11, 2.22535834e-09,\n",
       "        4.60256828e-08, 9.49880175e-10, 1.93603166e-15, 3.41406867e-08,\n",
       "        2.84583166e-07, 9.99999642e-01],\n",
       "       [2.13635290e-11, 2.96838038e-15, 9.30455973e-12, 4.66343186e-10,\n",
       "        2.02411493e-13, 1.78307110e-14, 1.49584062e-20, 1.00000000e+00,\n",
       "        1.70782193e-12, 1.87984989e-10],\n",
       "       [2.85754824e-04, 8.38217659e-07, 1.02204390e-01, 1.55820653e-01,\n",
       "        4.67587597e-06, 4.77109998e-01, 2.97396241e-06, 3.68518336e-08,\n",
       "        2.64471263e-01, 9.94074289e-05],\n",
       "       [1.00230273e-12, 1.97842994e-04, 1.22263728e-07, 5.20572939e-07,\n",
       "        9.99782860e-01, 3.96354437e-07, 1.88437894e-12, 1.27144122e-05,\n",
       "        4.02687328e-06, 1.60209265e-06],\n",
       "       [1.72469192e-10, 4.33999361e-07, 1.93938310e-09, 8.26017003e-06,\n",
       "        1.78529904e-03, 1.73305870e-09, 1.38704391e-12, 3.08301278e-05,\n",
       "        2.68205577e-06, 9.98172522e-01],\n",
       "       [1.33115588e-10, 3.01069228e-13, 1.43416529e-10, 2.97964084e-11,\n",
       "        1.73363390e-09, 2.32129416e-04, 9.99767363e-01, 2.50057943e-16,\n",
       "        4.22550812e-07, 1.03083386e-09],\n",
       "       [6.03234639e-06, 4.14399331e-12, 1.93154004e-09, 1.53740319e-11,\n",
       "        1.98835650e-07, 7.14258377e-08, 9.99993205e-01, 1.30342526e-09,\n",
       "        6.54262156e-09, 4.34575838e-07],\n",
       "       [2.35822511e-14, 6.47937390e-12, 2.78247206e-13, 1.23391487e-06,\n",
       "        1.25242124e-12, 9.99998569e-01, 1.72678227e-07, 2.19396464e-18,\n",
       "        4.51838034e-09, 8.79969591e-08],\n",
       "       [9.65299975e-12, 9.73492309e-09, 8.24348945e-09, 1.70897554e-08,\n",
       "        9.99999881e-01, 4.01695593e-10, 4.29077591e-13, 1.37434997e-09,\n",
       "        3.34187678e-09, 9.05999400e-08]], dtype=float32)"
      ]
     },
     "execution_count": 19,
     "metadata": {},
     "output_type": "execute_result"
    }
   ],
   "source": [
    "#Show predictions as probabilites for the first 4 images in the test set\n",
    "predictions = model.predict(X_test[:25])\n",
    "predictions"
   ]
  },
  {
   "cell_type": "code",
   "execution_count": 20,
   "metadata": {},
   "outputs": [
    {
     "name": "stdout",
     "output_type": "stream",
     "text": [
      "[7 2 1 0 4 1 4 9 5 9 0 6 9 0 1 5 9 7 5 4 9 6 6 5 4]\n",
      "[7 2 1 0 4 1 4 9 5 9 0 6 9 0 1 5 9 7 3 4 9 6 6 5 4]\n"
     ]
    }
   ],
   "source": [
    "#Print our predicitons as number labels for the first 4 images\n",
    "print( np.argmax(predictions, axis=1))\n",
    "#Print the actual labels\n",
    "print(y_test[:25])"
   ]
  },
  {
   "cell_type": "code",
   "execution_count": null,
   "metadata": {},
   "outputs": [
    {
     "data": {
      "image/png": "[encoded data removed]",
      "text/plain": [
       "<Figure size 432x288 with 1 Axes>"
      ]
     },
     "metadata": {
      "needs_background": "light"
     },
     "output_type": "display_data"
    },
    {
     "data": {
      "image/png": "[encoded data removed]",
      "text/plain": [
       "<Figure size 432x288 with 1 Axes>"
      ]
     },
     "metadata": {
      "needs_background": "light"
     },
     "output_type": "display_data"
    },
    {
     "data": {
      "image/png": "[encoded data removed]",
      "text/plain": [
       "<Figure size 432x288 with 1 Axes>"
      ]
     },
     "metadata": {
      "needs_background": "light"
     },
     "output_type": "display_data"
    }
   ],
   "source": [
    "#Show the first 4 images as pictures\n",
    "for i in range(0,25):\n",
    "  image = X_test[i]\n",
    "  image = np.array(image, dtype='float')\n",
    "  pixels = image.reshape((28,28))\n",
    "  plt.imshow(pixels, cmap='gray')\n",
    "  plt.show()"
   ]
  },
  {
   "cell_type": "code",
   "execution_count": null,
   "metadata": {},
   "outputs": [],
   "source": []
  }
 ],
 "metadata": {
  "kernelspec": {
   "display_name": "Python 3",
   "language": "python",
   "name": "python3"
  },
  "language_info": {
   "codemirror_mode": {
    "name": "ipython",
    "version": 3
   },
   "file_extension": ".py",
   "mimetype": "text/x-python",
   "name": "python",
   "nbconvert_exporter": "python",
   "pygments_lexer": "ipython3",
   "version": "3.7.4"
  }
 },
 "nbformat": 4,
 "nbformat_minor": 2
}
